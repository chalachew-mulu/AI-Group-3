{
 "cells": [
  {
   "cell_type": "code",
   "execution_count": 1,
   "id": "6300f39c-71e8-4523-8146-9c34a823b13a",
   "metadata": {},
   "outputs": [],
   "source": [
    "import pandas as pd\n",
    "from sklearn.model_selection import train_test_split\n",
    "from sklearn.impute import SimpleImputer\n",
    "from sklearn.preprocessing import StandardScaler\n",
    "from sklearn.tree import DecisionTreeClassifier\n",
    "from sklearn.svm import SVC\n",
    "from sklearn.ensemble import RandomForestClassifier\n",
    "from sklearn.metrics import classification_report, accuracy_score"
   ]
  },
  {
   "cell_type": "code",
   "execution_count": 2,
   "id": "34d0a832-5690-4cb8-bf48-52dd8e4f3af2",
   "metadata": {},
   "outputs": [],
   "source": [
    "df = pd.read_csv(\"water quality prediction.csv\")"
   ]
  },
  {
   "cell_type": "code",
   "execution_count": 3,
   "id": "9570d21d-08aa-4267-aa94-5bad71e2e6c1",
   "metadata": {},
   "outputs": [],
   "source": [
    "X = df.drop(\"Potability\", axis=1)\n",
    "y = df[\"Potability\"]\n"
   ]
  },
  {
   "cell_type": "code",
   "execution_count": 4,
   "id": "c23fb588-ed25-445d-ac25-c67987a5a9e5",
   "metadata": {},
   "outputs": [],
   "source": [
    "imputer = SimpleImputer(strategy='mean')\n",
    "X_imputed = imputer.fit_transform(X)\n"
   ]
  },
  {
   "cell_type": "code",
   "execution_count": 5,
   "id": "4990316f-d930-458e-b08d-44f3f1623fa0",
   "metadata": {},
   "outputs": [],
   "source": [
    "scaler = StandardScaler()\n",
    "X_scaled = scaler.fit_transform(X_imputed)"
   ]
  },
  {
   "cell_type": "code",
   "execution_count": 6,
   "id": "0dde261f-6e87-4b7f-9590-d31abf4d691d",
   "metadata": {},
   "outputs": [],
   "source": [
    "X_train, X_test, y_train, y_test = train_test_split(\n",
    "    X_scaled, y, test_size=0.2, random_state=42\n",
    ")\n"
   ]
  },
  {
   "cell_type": "code",
   "execution_count": 7,
   "id": "253538f8-195f-48ec-bbce-2a28ea4f631a",
   "metadata": {},
   "outputs": [],
   "source": [
    "models = {\n",
    "    \"Decision Tree\": DecisionTreeClassifier(random_state=42),\n",
    "    \"SVM\": SVC(random_state=42),\n",
    "    \"Random Forest\": RandomForestClassifier(random_state=42)\n",
    "}\n"
   ]
  },
  {
   "cell_type": "code",
   "execution_count": 8,
   "id": "dde1f8f8-0675-4e22-8e72-c783ddaea42a",
   "metadata": {},
   "outputs": [
    {
     "name": "stdout",
     "output_type": "stream",
     "text": [
      "\n",
      "=== Decision Tree ===\n",
      "Accuracy: 0.5777439024390244\n",
      "Classification Report:\n",
      "               precision    recall  f1-score   support\n",
      "\n",
      "           0       0.68      0.62      0.65       412\n",
      "           1       0.44      0.51      0.47       244\n",
      "\n",
      "    accuracy                           0.58       656\n",
      "   macro avg       0.56      0.56      0.56       656\n",
      "weighted avg       0.59      0.58      0.58       656\n",
      "\n",
      "\n",
      "=== SVM ===\n",
      "Accuracy: 0.6951219512195121\n",
      "Classification Report:\n",
      "               precision    recall  f1-score   support\n",
      "\n",
      "           0       0.70      0.92      0.79       412\n",
      "           1       0.69      0.32      0.44       244\n",
      "\n",
      "    accuracy                           0.70       656\n",
      "   macro avg       0.69      0.62      0.62       656\n",
      "weighted avg       0.69      0.70      0.66       656\n",
      "\n",
      "\n",
      "=== Random Forest ===\n",
      "Accuracy: 0.6783536585365854\n",
      "Classification Report:\n",
      "               precision    recall  f1-score   support\n",
      "\n",
      "           0       0.70      0.86      0.77       412\n",
      "           1       0.61      0.38      0.47       244\n",
      "\n",
      "    accuracy                           0.68       656\n",
      "   macro avg       0.65      0.62      0.62       656\n",
      "weighted avg       0.67      0.68      0.66       656\n",
      "\n"
     ]
    }
   ],
   "source": [
    "for name, model in models.items():\n",
    "    model.fit(X_train, y_train)\n",
    "    y_pred = model.predict(X_test)\n",
    "    print(f\"\\n=== {name} ===\")\n",
    "    print(\"Accuracy:\", accuracy_score(y_test, y_pred))\n",
    "    print(\"Classification Report:\\n\", classification_report(y_test, y_pred))"
   ]
  },
  {
   "cell_type": "code",
   "execution_count": 19,
   "id": "6d50092d-6df7-4cf0-8f6f-1574ac978645",
   "metadata": {},
   "outputs": [],
   "source": [
    "import matplotlib.pyplot as plt"
   ]
  },
  {
   "cell_type": "code",
   "execution_count": 20,
   "id": "79950330-f1cf-4e1e-8498-b1cd6403a085",
   "metadata": {},
   "outputs": [],
   "source": [
    "accuracies = {}\n",
    "\n",
    "for name, model in models.items():\n",
    "    y_pred = model.predict(X_test)\n",
    "    acc = accuracy_score(y_test, y_pred)\n",
    "    accuracies[name] = acc"
   ]
  },
  {
   "cell_type": "code",
   "execution_count": 21,
   "id": "d54bbc49-be30-4529-abb6-ad009f2ed58a",
   "metadata": {},
   "outputs": [
    {
     "data": {
      "image/png": "[encoded data removed]",
      "text/plain": [
       "<Figure size 800x500 with 1 Axes>"
      ]
     },
     "metadata": {},
     "output_type": "display_data"
    }
   ],
   "source": [
    "plt.figure(figsize=(8, 5))\n",
    "plt.bar(accuracies.keys(), accuracies.values(), color=[\"skyblue\", \"salmon\", \"lightgreen\"])\n",
    "plt.ylabel(\"Accuracy\")\n",
    "plt.title(\"Model Accuracy Comparison\")\n",
    "plt.ylim(0, 1)\n",
    "plt.grid(axis=\"y\", linestyle=\"--\", alpha=0.7)\n",
    "plt.show()"
   ]
  },
  {
   "cell_type": "code",
   "execution_count": null,
   "id": "6f8a38f3-5c48-4638-a1c4-baeea624ab73",
   "metadata": {},
   "outputs": [],
   "source": []
  }
 ],
 "metadata": {
  "kernelspec": {
   "display_name": "Python 3 (ipykernel)",
   "language": "python",
   "name": "python3"
  },
  "language_info": {
   "codemirror_mode": {
    "name": "ipython",
    "version": 3
   },
   "file_extension": ".py",
   "mimetype": "text/x-python",
   "name": "python",
   "nbconvert_exporter": "python",
   "pygments_lexer": "ipython3",
   "version": "3.12.7"
  }
 },
 "nbformat": 4,
 "nbformat_minor": 5
}
