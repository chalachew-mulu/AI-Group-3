{
 "cells": [
  {
   "cell_type": "code",
   "execution_count": 7,
   "id": "9b772e1c-6abb-4d7e-9e55-f1ff1538f21b",
   "metadata": {},
   "outputs": [],
   "source": [
    "import pandas as pd"
   ]
  },
  {
   "cell_type": "code",
   "execution_count": 8,
   "id": "af83f106-b4c5-4e90-9082-0ba406d1434f",
   "metadata": {},
   "outputs": [
    {
     "name": "stdout",
     "output_type": "stream",
     "text": [
      "\n",
      "=== Data Overview ===\n",
      "First 5 rows:\n",
      "      Hardness        Solids  Chloramines     Sulfate  Organic_carbon  \\\n",
      "0  204.890455  20791.318981     7.300212  368.516441       10.379783   \n",
      "1  129.422921  18630.057858     6.635246  333.073546       15.180013   \n",
      "2  224.236259  19909.541732     9.275884  333.073546       16.868637   \n",
      "3  214.373394  22018.417441     8.059332  356.886136       18.436524   \n",
      "4  181.101509  17978.986339     6.546600  310.135738       11.558279   \n",
      "\n",
      "   Chloramine_Sulfate_ratio  Organic_Trihalo_ratio  log_Solids  ph_squared  \\\n",
      "0                  0.019810               0.119320    9.942339   49.515880   \n",
      "1                  0.019921               0.269488    9.832585   13.809251   \n",
      "2                  0.027849               0.253969    9.899005   65.595813   \n",
      "3                  0.022582               0.183737    9.999680   69.168595   \n",
      "4                  0.021109               0.361219    9.797015   82.668527   \n",
      "\n",
      "   Solids_bins  Potability  \n",
      "0          1.0           0  \n",
      "1          1.0           0  \n",
      "2          1.0           0  \n",
      "3          1.0           0  \n",
      "4          1.0           0  \n"
     ]
    }
   ],
   "source": [
    "df=pd.read_csv(\"C:/Users/nigus/Desktop/AI-Group-3/Data/water_quality.csv\")\n",
    "#display basicinformation\n",
    "print(\"\\n=== Data Overview ===\")\n",
    "print(\"First 5 rows:\\n\",df.head())"
   ]
  },
  {
   "cell_type": "code",
   "execution_count": 9,
   "id": "918d360c-c504-43b4-abee-9f6849356b53",
   "metadata": {},
   "outputs": [
    {
     "name": "stdout",
     "output_type": "stream",
     "text": [
      "\n",
      " Data Shape: (3276, 11)\n"
     ]
    }
   ],
   "source": [
    "print(\"\\n Data Shape:\",df.shape)"
   ]
  },
  {
   "cell_type": "code",
   "execution_count": 10,
   "id": "57a37dfe-9428-4ff0-8b0b-5f73b83c3461",
   "metadata": {},
   "outputs": [
    {
     "name": "stdout",
     "output_type": "stream",
     "text": [
      "\n",
      " Data type:\n",
      " Hardness                    float64\n",
      "Solids                      float64\n",
      "Chloramines                 float64\n",
      "Sulfate                     float64\n",
      "Organic_carbon              float64\n",
      "Chloramine_Sulfate_ratio    float64\n",
      "Organic_Trihalo_ratio       float64\n",
      "log_Solids                  float64\n",
      "ph_squared                  float64\n",
      "Solids_bins                 float64\n",
      "Potability                    int64\n",
      "dtype: object\n"
     ]
    }
   ],
   "source": [
    "print(\"\\n Data type:\\n\",df.dtypes)"
   ]
  },
  {
   "cell_type": "code",
   "execution_count": 11,
   "id": "4477ece8-66df-4a10-9d90-36c48d1b999e",
   "metadata": {},
   "outputs": [
    {
     "name": "stdout",
     "output_type": "stream",
     "text": [
      "\n",
      "Messing values per column:\n",
      "Hardness                    0\n",
      "Solids                      0\n",
      "Chloramines                 0\n",
      "Sulfate                     0\n",
      "Organic_carbon              0\n",
      "Chloramine_Sulfate_ratio    0\n",
      "Organic_Trihalo_ratio       0\n",
      "log_Solids                  0\n",
      "ph_squared                  0\n",
      "Solids_bins                 0\n",
      "Potability                  0\n",
      "dtype: int64\n"
     ]
    }
   ],
   "source": [
    "#check for missing values\n",
    "print(\"\\nMessing values per column:\")\n",
    "print(df.isnull().sum())"
   ]
  },
  {
   "cell_type": "code",
   "execution_count": 14,
   "id": "fd1a154b-44a4-4470-986c-dc9cc4b12381",
   "metadata": {},
   "outputs": [
    {
     "name": "stdout",
     "output_type": "stream",
     "text": [
      "\n",
      "portablity class distribuution\n",
      "Potability\n",
      "0    1998\n",
      "1    1278\n",
      "Name: count, dtype: int64\n"
     ]
    }
   ],
   "source": [
    "#analyse target variable distribution\n",
    "print(\"\\nportablity class distribuution\")\n",
    "print(df[\"Potability\"].value_counts())"
   ]
  },
  {
   "cell_type": "code",
   "execution_count": null,
   "id": "65732120-1a72-4387-bb3c-26cc71f92963",
   "metadata": {},
   "outputs": [],
   "source": []
  }
 ],
 "metadata": {
  "kernelspec": {
   "display_name": "Python 3 (ipykernel)",
   "language": "python",
   "name": "python3"
  },
  "language_info": {
   "codemirror_mode": {
    "name": "ipython",
    "version": 3
   },
   "file_extension": ".py",
   "mimetype": "text/x-python",
   "name": "python",
   "nbconvert_exporter": "python",
   "pygments_lexer": "ipython3",
   "version": "3.13.2"
  }
 },
 "nbformat": 4,
 "nbformat_minor": 5
}
