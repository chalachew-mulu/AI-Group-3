{
 "cells": [
  {
   "cell_type": "code",
   "execution_count": 37,
   "id": "2da2ac10-b33c-49d8-b77d-37d617ebab99",
   "metadata": {},
   "outputs": [],
   "source": [
    "import pandas as pd\n",
    "import numpy as np"
   ]
  },
  {
   "cell_type": "code",
   "execution_count": 128,
   "id": "d1a7a7f3-73be-40fb-91c4-cdf8d2ef5e04",
   "metadata": {},
   "outputs": [
    {
     "data": {
      "text/html": [
       "<div>\n",
       "<style scoped>\n",
       "    .dataframe tbody tr th:only-of-type {\n",
       "        vertical-align: middle;\n",
       "    }\n",
       "\n",
       "    .dataframe tbody tr th {\n",
       "        vertical-align: top;\n",
       "    }\n",
       "\n",
       "    .dataframe thead th {\n",
       "        text-align: right;\n",
       "    }\n",
       "</style>\n",
       "<table border=\"1\" class=\"dataframe\">\n",
       "  <thead>\n",
       "    <tr style=\"text-align: right;\">\n",
       "      <th></th>\n",
       "      <th>Hardness</th>\n",
       "      <th>Solids</th>\n",
       "      <th>Chloramines</th>\n",
       "      <th>Sulfate</th>\n",
       "      <th>Organic_carbon</th>\n",
       "      <th>Chloramine_Sulfate_ratio</th>\n",
       "      <th>Organic_Trihalo_ratio</th>\n",
       "      <th>log_Solids</th>\n",
       "      <th>ph_squared</th>\n",
       "      <th>Solids_bins</th>\n",
       "      <th>Potability</th>\n",
       "    </tr>\n",
       "  </thead>\n",
       "  <tbody>\n",
       "    <tr>\n",
       "      <th>0</th>\n",
       "      <td>204.890455</td>\n",
       "      <td>20791.318981</td>\n",
       "      <td>7.300212</td>\n",
       "      <td>368.516441</td>\n",
       "      <td>10.379783</td>\n",
       "      <td>0.019810</td>\n",
       "      <td>0.119320</td>\n",
       "      <td>9.942339</td>\n",
       "      <td>49.515880</td>\n",
       "      <td>1.0</td>\n",
       "      <td>0</td>\n",
       "    </tr>\n",
       "    <tr>\n",
       "      <th>1</th>\n",
       "      <td>129.422921</td>\n",
       "      <td>18630.057858</td>\n",
       "      <td>6.635246</td>\n",
       "      <td>333.073546</td>\n",
       "      <td>15.180013</td>\n",
       "      <td>0.019921</td>\n",
       "      <td>0.269488</td>\n",
       "      <td>9.832585</td>\n",
       "      <td>13.809251</td>\n",
       "      <td>1.0</td>\n",
       "      <td>0</td>\n",
       "    </tr>\n",
       "    <tr>\n",
       "      <th>2</th>\n",
       "      <td>224.236259</td>\n",
       "      <td>19909.541732</td>\n",
       "      <td>9.275884</td>\n",
       "      <td>333.073546</td>\n",
       "      <td>16.868637</td>\n",
       "      <td>0.027849</td>\n",
       "      <td>0.253969</td>\n",
       "      <td>9.899005</td>\n",
       "      <td>65.595813</td>\n",
       "      <td>1.0</td>\n",
       "      <td>0</td>\n",
       "    </tr>\n",
       "    <tr>\n",
       "      <th>3</th>\n",
       "      <td>214.373394</td>\n",
       "      <td>22018.417441</td>\n",
       "      <td>8.059332</td>\n",
       "      <td>356.886136</td>\n",
       "      <td>18.436524</td>\n",
       "      <td>0.022582</td>\n",
       "      <td>0.183737</td>\n",
       "      <td>9.999680</td>\n",
       "      <td>69.168595</td>\n",
       "      <td>1.0</td>\n",
       "      <td>0</td>\n",
       "    </tr>\n",
       "    <tr>\n",
       "      <th>4</th>\n",
       "      <td>181.101509</td>\n",
       "      <td>17978.986339</td>\n",
       "      <td>6.546600</td>\n",
       "      <td>310.135738</td>\n",
       "      <td>11.558279</td>\n",
       "      <td>0.021109</td>\n",
       "      <td>0.361219</td>\n",
       "      <td>9.797015</td>\n",
       "      <td>82.668527</td>\n",
       "      <td>1.0</td>\n",
       "      <td>0</td>\n",
       "    </tr>\n",
       "  </tbody>\n",
       "</table>\n",
       "</div>"
      ],
      "text/plain": [
       "     Hardness        Solids  Chloramines     Sulfate  Organic_carbon  \\\n",
       "0  204.890455  20791.318981     7.300212  368.516441       10.379783   \n",
       "1  129.422921  18630.057858     6.635246  333.073546       15.180013   \n",
       "2  224.236259  19909.541732     9.275884  333.073546       16.868637   \n",
       "3  214.373394  22018.417441     8.059332  356.886136       18.436524   \n",
       "4  181.101509  17978.986339     6.546600  310.135738       11.558279   \n",
       "\n",
       "   Chloramine_Sulfate_ratio  Organic_Trihalo_ratio  log_Solids  ph_squared  \\\n",
       "0                  0.019810               0.119320    9.942339   49.515880   \n",
       "1                  0.019921               0.269488    9.832585   13.809251   \n",
       "2                  0.027849               0.253969    9.899005   65.595813   \n",
       "3                  0.022582               0.183737    9.999680   69.168595   \n",
       "4                  0.021109               0.361219    9.797015   82.668527   \n",
       "\n",
       "   Solids_bins  Potability  \n",
       "0          1.0           0  \n",
       "1          1.0           0  \n",
       "2          1.0           0  \n",
       "3          1.0           0  \n",
       "4          1.0           0  "
      ]
     },
     "execution_count": 128,
     "metadata": {},
     "output_type": "execute_result"
    }
   ],
   "source": [
    "import pandas as pd\n",
    "\n",
    "df = pd.read_csv(r\"C:\\Users\\ICT\\Desktop\\new\\AI-Group-3\\Data\\water_quality.csv\")\n",
    "df.head()"
   ]
  },
  {
   "cell_type": "code",
   "execution_count": 126,
   "id": "6f98751a-5d02-43d3-802d-a621853ede15",
   "metadata": {},
   "outputs": [
    {
     "name": "stdout",
     "output_type": "stream",
     "text": [
      "['.ipynb_checkpoints', 'Untitled.ipynb', 'Untitled1.ipynb', 'water_quality.csv']\n"
     ]
    }
   ],
   "source": [
    "import os\n",
    "\n",
    "folder = r\"C:\\Users\\ICT\\Desktop\\new\\AI-Group-3\\Data\"\n",
    "print(os.listdir(folder))"
   ]
  },
  {
   "cell_type": "code",
   "execution_count": null,
   "id": "9306e6e7-9663-4c11-932e-b63bf6f15475",
   "metadata": {},
   "outputs": [],
   "source": []
  }
 ],
 "metadata": {
  "kernelspec": {
   "display_name": "Python [conda env:base] *",
   "language": "python",
   "name": "conda-base-py"
  },
  "language_info": {
   "codemirror_mode": {
    "name": "ipython",
    "version": 3
   },
   "file_extension": ".py",
   "mimetype": "text/x-python",
   "name": "python",
   "nbconvert_exporter": "python",
   "pygments_lexer": "ipython3",
   "version": "3.12.7"
  }
 },
 "nbformat": 4,
 "nbformat_minor": 5
}
