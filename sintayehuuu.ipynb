{
 "cells": [
  {
   "cell_type": "code",
   "execution_count": 1,
   "id": "ff3137c7-eed7-401e-b9fc-d41de863d9ec",
   "metadata": {},
   "outputs": [],
   "source": [
    "import pandas as pd\n",
    "from sklearn.model_selection import train_test_split\n",
    "from sklearn.impute import SimpleImputer\n",
    "from sklearn.preprocessing import StandardScaler\n",
    "from sklearn.tree import DecisionTreeClassifier\n",
    "from sklearn.ensemble import RandomForestClassifier\n",
    "from sklearn.svm import SVC\n",
    "from sklearn.metrics import classification_report, confusion_matrix"
   ]
  },
  {
   "cell_type": "code",
   "execution_count": 2,
   "id": "2a441659-4809-4c4d-abff-6d928b5a12e6",
   "metadata": {},
   "outputs": [],
   "source": [
    "df = pd.read_csv(\"water quality prediction.csv\") "
   ]
  },
  {
   "cell_type": "code",
   "execution_count": 3,
   "id": "8bb2ed43-0703-4a9b-9109-c5ef21107935",
   "metadata": {},
   "outputs": [],
   "source": [
    "X = df.drop(\"Potability\", axis=1)\n",
    "y = df[\"Potability\"]"
   ]
  },
  {
   "cell_type": "code",
   "execution_count": 4,
   "id": "4dbf0b24-9e97-44c9-a8b3-d1d603ac03ad",
   "metadata": {},
   "outputs": [],
   "source": [
    "imputer = SimpleImputer(strategy=\"mean\")\n",
    "X_imputed = imputer.fit_transform(X)"
   ]
  },
  {
   "cell_type": "code",
   "execution_count": 5,
   "id": "f8fa37b5-bfde-4c16-bb39-9ef1b6380e71",
   "metadata": {},
   "outputs": [],
   "source": [
    "scaler = StandardScaler()\n",
    "X_scaled = scaler.fit_transform(X_imputed)"
   ]
  },
  {
   "cell_type": "code",
   "execution_count": 6,
   "id": "c7ca779a-d3ff-483b-ae1c-1ed731dfd132",
   "metadata": {},
   "outputs": [],
   "source": [
    "X_train, X_test, y_train, y_test = train_test_split(X_scaled, y, test_size=0.2, random_state=42)"
   ]
  },
  {
   "cell_type": "code",
   "execution_count": 7,
   "id": "04b54ada-06b7-4e73-9345-347f2077990d",
   "metadata": {},
   "outputs": [],
   "source": [
    "dt_model = DecisionTreeClassifier(random_state=42)\n",
    "dt_model.fit(X_train, y_train)\n",
    "dt_preds = dt_model.predict(X_test)"
   ]
  },
  {
   "cell_type": "code",
   "execution_count": 8,
   "id": "870fcd69-e779-4355-88ad-76e91d10be89",
   "metadata": {},
   "outputs": [],
   "source": [
    "svm_model = SVC(random_state=42)\n",
    "svm_model.fit(X_train, y_train)\n",
    "svm_preds = svm_model.predict(X_test)"
   ]
  },
  {
   "cell_type": "code",
   "execution_count": 9,
   "id": "cbb014ff-d479-4d66-9cae-ebaaafd839e1",
   "metadata": {},
   "outputs": [],
   "source": [
    "rf_model = RandomForestClassifier(random_state=42)\n",
    "rf_model.fit(X_train, y_train)\n",
    "rf_preds = rf_model.predict(X_test)"
   ]
  },
  {
   "cell_type": "code",
   "execution_count": 10,
   "id": "52cf53d2-f045-459f-a553-61ce384ccb90",
   "metadata": {},
   "outputs": [],
   "source": [
    "def evaluate_model(name, y_true, y_pred):\n",
    "    print(f\"\\n{name} Classification Report:\")\n",
    "    print(classification_report(y_true, y_pred))\n",
    "    print(f\"{name} Confusion Matrix:\\n{confusion_matrix(y_true, y_pred)}\")"
   ]
  },
  {
   "cell_type": "code",
   "execution_count": 11,
   "id": "4b57d217-1c25-4a26-8546-63a3d12f2d52",
   "metadata": {},
   "outputs": [
    {
     "name": "stdout",
     "output_type": "stream",
     "text": [
      "\n",
      "Decision Tree Classification Report:\n",
      "              precision    recall  f1-score   support\n",
      "\n",
      "           0       0.68      0.62      0.65       412\n",
      "           1       0.44      0.51      0.47       244\n",
      "\n",
      "    accuracy                           0.58       656\n",
      "   macro avg       0.56      0.56      0.56       656\n",
      "weighted avg       0.59      0.58      0.58       656\n",
      "\n",
      "Decision Tree Confusion Matrix:\n",
      "[[255 157]\n",
      " [120 124]]\n",
      "\n",
      "Support Vector Machine Classification Report:\n",
      "              precision    recall  f1-score   support\n",
      "\n",
      "           0       0.70      0.92      0.79       412\n",
      "           1       0.69      0.32      0.44       244\n",
      "\n",
      "    accuracy                           0.70       656\n",
      "   macro avg       0.69      0.62      0.62       656\n",
      "weighted avg       0.69      0.70      0.66       656\n",
      "\n",
      "Support Vector Machine Confusion Matrix:\n",
      "[[377  35]\n",
      " [165  79]]\n",
      "\n",
      "Random Forest Classification Report:\n",
      "              precision    recall  f1-score   support\n",
      "\n",
      "           0       0.70      0.86      0.77       412\n",
      "           1       0.61      0.38      0.47       244\n",
      "\n",
      "    accuracy                           0.68       656\n",
      "   macro avg       0.65      0.62      0.62       656\n",
      "weighted avg       0.67      0.68      0.66       656\n",
      "\n",
      "Random Forest Confusion Matrix:\n",
      "[[353  59]\n",
      " [152  92]]\n"
     ]
    }
   ],
   "source": [
    "evaluate_model(\"Decision Tree\", y_test, dt_preds)\n",
    "evaluate_model(\"Support Vector Machine\", y_test, svm_preds)\n",
    "evaluate_model(\"Random Forest\", y_test, rf_preds)"
   ]
  },
  {
   "cell_type": "code",
   "execution_count": 12,
   "id": "1ff9a48f-6856-4c94-b844-56e77c1da37c",
   "metadata": {},
   "outputs": [],
   "source": [
    "import matplotlib.pyplot as plt\n",
    "import seaborn as sns\n",
    "from sklearn.metrics import accuracy_score"
   ]
  },
  {
   "cell_type": "code",
   "execution_count": 13,
   "id": "6517e570-0b01-4f57-8d0c-360f72f22fb0",
   "metadata": {},
   "outputs": [],
   "source": [
    "model_names = ['Decision Tree', 'SVM', 'Random Forest']\n",
    "predictions = [dt_preds, svm_preds, rf_preds]\n",
    "accuracies = [accuracy_score(y_test, pred) for pred in predictions]"
   ]
  },
  {
   "cell_type": "code",
   "execution_count": 15,
   "id": "3aa020ac-a2f8-478e-b81b-a3ba18a439d3",
   "metadata": {},
   "outputs": [],
   "source": [
    "import pandas as pd"
   ]
  },
  {
   "cell_type": "code",
   "execution_count": 16,
   "id": "d3687033-d8b1-49ff-8fe0-568eb3c6d164",
   "metadata": {},
   "outputs": [],
   "source": [
    "accuracy_df = pd.DataFrame({\n",
    "    'Model': model_names,\n",
    "    'Accuracy': accuracies\n",
    "})"
   ]
  },
  {
   "cell_type": "code",
   "execution_count": 17,
   "id": "79b269b2-9f2b-4ab1-a3cb-9e6ac3228b29",
   "metadata": {},
   "outputs": [
    {
     "data": {
      "image/png": "[encoded data removed]",
      "text/plain": [
       "<Figure size 800x500 with 1 Axes>"
      ]
     },
     "metadata": {},
     "output_type": "display_data"
    }
   ],
   "source": [
    "plt.figure(figsize=(8, 5))\n",
    "sns.barplot(data=accuracy_df, x='Model', y='Accuracy', hue='Model', palette='viridis', legend=False)\n",
    "plt.title('Model Accuracy Comparison')\n",
    "plt.ylabel('Accuracy')\n",
    "plt.ylim(0, 1)\n",
    "plt.show()"
   ]
  },
  {
   "cell_type": "code",
   "execution_count": null,
   "id": "7f4a8443-616b-4c0f-aa5c-8c1ee325d95b",
   "metadata": {},
   "outputs": [],
   "source": []
  }
 ],
 "metadata": {
  "kernelspec": {
   "display_name": "Python [conda env:base] *",
   "language": "python",
   "name": "conda-base-py"
  },
  "language_info": {
   "codemirror_mode": {
    "name": "ipython",
    "version": 3
   },
   "file_extension": ".py",
   "mimetype": "text/x-python",
   "name": "python",
   "nbconvert_exporter": "python",
   "pygments_lexer": "ipython3",
   "version": "3.12.7"
  }
 },
 "nbformat": 4,
 "nbformat_minor": 5
}
